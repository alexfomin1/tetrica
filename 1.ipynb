{
  "nbformat": 4,
  "nbformat_minor": 0,
  "metadata": {
    "colab": {
      "name": "1.ipynb",
      "provenance": [],
      "collapsed_sections": [],
      "authorship_tag": "ABX9TyO5etj9QPDMnYfaWLJq2vIQ",
      "include_colab_link": true
    },
    "kernelspec": {
      "name": "python3",
      "display_name": "Python 3"
    },
    "language_info": {
      "name": "python"
    }
  },
  "cells": [
    {
      "cell_type": "markdown",
      "metadata": {
        "id": "view-in-github",
        "colab_type": "text"
      },
      "source": [
        "<a href=\"https://colab.research.google.com/github/alexfomin1/tetrica/blob/main/1.ipynb\" target=\"_parent\"><img src=\"https://colab.research.google.com/assets/colab-badge.svg\" alt=\"Open In Colab\"/></a>"
      ]
    },
    {
      "cell_type": "markdown",
      "source": [
        "Дан массив чисел, состоящий из некоторого количества подряд идущих единиц, за которыми следует какое-то количество подряд идущих нулей: 111111111111111111111111100000000.\n",
        "Найти индекс первого нуля (то есть найти такое место, где заканчиваются единицы, и начинаются нули)\n",
        "\n"
      ],
      "metadata": {
        "id": "Qap5c9pXE8TR"
      }
    },
    {
      "cell_type": "code",
      "execution_count": 1,
      "metadata": {
        "id": "p62ufyLmEyLF",
        "colab": {
          "base_uri": "https://localhost:8080/"
        },
        "outputId": "e038eac9-e05e-45cc-f48d-063d4ee6ac7c"
      },
      "outputs": [
        {
          "output_type": "stream",
          "name": "stdout",
          "text": [
            "11\n"
          ]
        }
      ],
      "source": [
        "def task(array):\n",
        "\treturn array.index('0')\n",
        "\n",
        "print(task(\"111111111110000000000000000\"))\n",
        "# >> OUT: 11"
      ]
    }
  ]
}