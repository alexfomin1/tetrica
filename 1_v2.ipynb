{
  "nbformat": 4,
  "nbformat_minor": 0,
  "metadata": {
    "colab": {
      "name": "1_v2.ipynb",
      "provenance": [],
      "authorship_tag": "ABX9TyMaH9oS6eCxLEPnuE3SiK9T",
      "include_colab_link": true
    },
    "kernelspec": {
      "name": "python3",
      "display_name": "Python 3"
    },
    "language_info": {
      "name": "python"
    }
  },
  "cells": [
    {
      "cell_type": "markdown",
      "metadata": {
        "id": "view-in-github",
        "colab_type": "text"
      },
      "source": [
        "<a href=\"https://colab.research.google.com/github/alexfomin1/tetrica/blob/main/1_v2.ipynb\" target=\"_parent\"><img src=\"https://colab.research.google.com/assets/colab-badge.svg\" alt=\"Open In Colab\"/></a>"
      ]
    },
    {
      "cell_type": "markdown",
      "source": [
        "Дан массив чисел, состоящий из некоторого количества подряд идущих единиц, за которыми следует какое-то количество подряд идущих нулей: 111111111111111111111111100000000.\n",
        "Найти индекс первого нуля (то есть найти такое место, где заканчиваются единицы, и начинаются нули)\n"
      ],
      "metadata": {
        "id": "5WPTHQRl22Gq"
      }
    },
    {
      "cell_type": "code",
      "execution_count": 5,
      "metadata": {
        "colab": {
          "base_uri": "https://localhost:8080/"
        },
        "id": "zSVdxP1z2Xj1",
        "outputId": "72fda3cb-39ad-430b-b1b5-4e690ad01b70"
      },
      "outputs": [
        {
          "output_type": "stream",
          "name": "stdout",
          "text": [
            "11\n"
          ]
        }
      ],
      "source": [
        "def task(array):\n",
        "    length = len(array)\n",
        "    array = int(array)\n",
        "    counter = 0\n",
        "    while array % 10 == 0:\n",
        "        array //= 10\n",
        "        counter += 1\n",
        "    return length - counter\n",
        "\n",
        "\n",
        "print(task(\"111111111110000000000000000\"))\n",
        "# >> OUT: 11"
      ]
    }
  ]
}