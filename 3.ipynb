{
  "nbformat": 4,
  "nbformat_minor": 0,
  "metadata": {
    "colab": {
      "name": "3.ipynb",
      "provenance": [],
      "collapsed_sections": [],
      "authorship_tag": "ABX9TyOUfnKFxKfbzut2Seow0yy6",
      "include_colab_link": true
    },
    "kernelspec": {
      "name": "python3",
      "display_name": "Python 3"
    },
    "language_info": {
      "name": "python"
    }
  },
  "cells": [
    {
      "cell_type": "markdown",
      "metadata": {
        "id": "view-in-github",
        "colab_type": "text"
      },
      "source": [
        "<a href=\"https://colab.research.google.com/github/alexfomin1/tetrica/blob/main/3.ipynb\" target=\"_parent\"><img src=\"https://colab.research.google.com/assets/colab-badge.svg\" alt=\"Open In Colab\"/></a>"
      ]
    },
    {
      "cell_type": "code",
      "source": [
        "!pip install python-intervals"
      ],
      "metadata": {
        "colab": {
          "base_uri": "https://localhost:8080/"
        },
        "id": "DqyW4PtkAhKz",
        "outputId": "04965b31-b0ae-4126-e3a8-414c263634b4"
      },
      "execution_count": null,
      "outputs": [
        {
          "output_type": "stream",
          "name": "stdout",
          "text": [
            "Looking in indexes: https://pypi.org/simple, https://us-python.pkg.dev/colab-wheels/public/simple/\n",
            "Requirement already satisfied: python-intervals in /usr/local/lib/python3.7/dist-packages (1.10.0.post1)\n"
          ]
        }
      ]
    },
    {
      "cell_type": "code",
      "execution_count": null,
      "metadata": {
        "id": "E1gluUpH9C4E"
      },
      "outputs": [],
      "source": [
        "import intervals as I\n",
        "\n",
        "# transfer from list of periods to intervals and check for repeat of the intervals\n",
        "def unboxing_intervals(x):\n",
        "\ts = []\n",
        "\tfor i in range(len(x)):\n",
        "\t\tif i % 2 == 1:\n",
        "\t\t\tcheck_interval = I.closed(x[i-1], x[i])\n",
        "\t\t\tfl = True\n",
        "\t\t\tfor j in range(len(s)):\n",
        "\t\t\t\tif s[j].overlaps(check_interval):\n",
        "\t\t\t\t\ts[j] = s[j] | check_interval\n",
        "\t\t\t\t\tfl = False\n",
        "\t\t\t\t\tpass\n",
        "\t\t\tif fl:\n",
        "\t\t\t\ts.append(check_interval)\n",
        "\treturn s\n",
        "\t\t\t\n",
        "\t\n",
        "\n",
        "def appearance(intervals):\n",
        "\t# lists of intervals for each set\n",
        "\tint_lesson = unboxing_intervals(intervals['lesson'])\n",
        "\tint_tutor = unboxing_intervals(intervals['tutor'])\n",
        "\tint_pupil = unboxing_intervals(intervals['pupil'])\n",
        " \n",
        "\tint_lesson_with_tutor = []\n",
        "\tint_lesson_with_tutor_and_pupil = []\n",
        "\tsumma = 0\n",
        "\t# we add and compare intervals of tutor and lesson\n",
        "\tfor interval in int_tutor:\n",
        "\t\tcheck_interval = int_lesson[0] & interval\n",
        "\t\tif I.empty() != check_interval:\n",
        "\t\t\tint_lesson_with_tutor.append(check_interval)\n",
        "\t# we add and compare intervals of tutor and lesson with pupil's\n",
        "\tfor interval in int_lesson_with_tutor:\n",
        "\t\tfor interv in int_pupil:\n",
        "\t\t\tcheck_interval = interval & interv\n",
        "\t\t\t# check if the interval has something\n",
        "\t\t\tif I.empty() != check_interval:\n",
        "\t\t\t\tlist_of_interval = list(I.iterate(check_interval, incr=1))\n",
        "\t\t\t\tsumma += list_of_interval[-1] - list_of_interval[0]\n",
        "\treturn summa\n",
        "\n",
        "tests = [{'data': {'lesson': [1594663200, 1594666800],\n",
        "             'pupil': [1594663340, 1594663389, 1594663390, 1594663395, 1594663396, 1594666472],\n",
        "             'tutor': [1594663290, 1594663430, 1594663443, 1594666473]},\n",
        "     'answer': 3117\n",
        "    },\n",
        "    {'data': {'lesson': [1594702800, 1594706400],\n",
        "             'pupil': [1594702789, 1594704500, 1594702807, 1594704542, 1594704512, 1594704513, 1594704564, 1594705150, 1594704581, 1594704582, 1594704734, 1594705009, 1594705095, 1594705096, 1594705106, 1594706480, 1594705158, 1594705773, 1594705849, 1594706480, 1594706500, 1594706875, 1594706502, 1594706503, 1594706524, 1594706524, 1594706579, 1594706641],\n",
        "             'tutor': [1594700035, 1594700364, 1594702749, 1594705148, 1594705149, 1594706463]},\n",
        "    'answer': 3577\n",
        "    },\n",
        "    {'data': {'lesson': [1594692000, 1594695600],\n",
        "             'pupil': [1594692033, 1594696347],\n",
        "             'tutor': [1594692017, 1594692066, 1594692068, 1594696341]},\n",
        "    'answer': 3565\n",
        "    },\n",
        "]\n",
        "\n",
        "\n",
        "if __name__ == '__main__':\n",
        "   for i, test in enumerate(tests):\n",
        "       test_answer = appearance(test['data'])\n",
        "       assert test_answer == test['answer'], f'Error on test case {i}, got {test_answer}, expected {test[\"answer\"]}'\n",
        "\n"
      ]
    }
  ]
}