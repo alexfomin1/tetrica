{
  "nbformat": 4,
  "nbformat_minor": 0,
  "metadata": {
    "colab": {
      "name": "2.ipynb",
      "provenance": [],
      "collapsed_sections": [],
      "authorship_tag": "ABX9TyOjschZgq2kvIC35vGeeGUu",
      "include_colab_link": true
    },
    "kernelspec": {
      "name": "python3",
      "display_name": "Python 3"
    },
    "language_info": {
      "name": "python"
    }
  },
  "cells": [
    {
      "cell_type": "markdown",
      "metadata": {
        "id": "view-in-github",
        "colab_type": "text"
      },
      "source": [
        "<a href=\"https://colab.research.google.com/github/alexfomin1/tetrica/blob/main/2.ipynb\" target=\"_parent\"><img src=\"https://colab.research.google.com/assets/colab-badge.svg\" alt=\"Open In Colab\"/></a>"
      ]
    },
    {
      "cell_type": "code",
      "execution_count": null,
      "metadata": {
        "colab": {
          "base_uri": "https://localhost:8080/"
        },
        "id": "dlcitfsOo-pg",
        "outputId": "7a897f6b-b5a4-4c33-8a4e-2d6f4b955769"
      },
      "outputs": [
        {
          "output_type": "stream",
          "name": "stdout",
          "text": [
            "Looking in indexes: https://pypi.org/simple, https://us-python.pkg.dev/colab-wheels/public/simple/\n",
            "Requirement already satisfied: regex in /usr/local/lib/python3.7/dist-packages (2022.6.2)\n",
            "Requirement already satisfied: requests in /usr/local/lib/python3.7/dist-packages (2.23.0)\n",
            "Requirement already satisfied: beautifulsoup4 in /usr/local/lib/python3.7/dist-packages (4.6.3)\n",
            "Requirement already satisfied: chardet<4,>=3.0.2 in /usr/local/lib/python3.7/dist-packages (from requests) (3.0.4)\n",
            "Requirement already satisfied: urllib3!=1.25.0,!=1.25.1,<1.26,>=1.21.1 in /usr/local/lib/python3.7/dist-packages (from requests) (1.24.3)\n",
            "Requirement already satisfied: certifi>=2017.4.17 in /usr/local/lib/python3.7/dist-packages (from requests) (2022.6.15)\n",
            "Requirement already satisfied: idna<3,>=2.5 in /usr/local/lib/python3.7/dist-packages (from requests) (2.10)\n"
          ]
        }
      ],
      "source": [
        "!pip install regex requests beautifulsoup4"
      ]
    },
    {
      "cell_type": "code",
      "source": [
        "import re\n",
        "import requests\n",
        "from bs4 import BeautifulSoup\n",
        "\n",
        "def get_wiki_names():\n",
        "    #start data\n",
        "    link_page = 'https://ru.wikipedia.org/wiki/Категория:Животные_по_алфавиту'\n",
        "    letter_now = ''\n",
        "    count_letters = {}\n",
        "\n",
        "    while letter_now != 'A':\n",
        "        code = requests.get(link_page).text\n",
        "        soup = BeautifulSoup(code, 'html.parser')\n",
        "\n",
        "        '''\n",
        "        structure of the titles:\n",
        "        some categories (category:text)\n",
        "        names of animals\n",
        "        additional info(Страница...)\n",
        "        '''\n",
        "        for a in soup.find_all('a'):\n",
        "            str_a = str(a)\n",
        "            #get title from titles\n",
        "            title_from_a = re.findall(r'title=\"(.*?)\"', str_a)\n",
        "            if title_from_a != []:\n",
        "                title_from_a = title_from_a[0]\n",
        "                if ':' not in title_from_a:\n",
        "                    if 'Страница' in title_from_a:\n",
        "                        break\n",
        "                    \n",
        "                    #get and test the first letter of the name\n",
        "                    letter_now = title_from_a[0]\n",
        "                    if letter_now == 'A':\n",
        "                        break\n",
        "                    #one of the mistakes that name Helobdella nununununojensis is among russian words\n",
        "                    elif letter_now == 'H':\n",
        "                        pass\n",
        "                    else:\n",
        "                        if letter_now in count_letters:\n",
        "                            count_letters[letter_now] = count_letters[letter_now] + 1\n",
        "                        else:\n",
        "                            count_letters[letter_now] = 1\n",
        "\n",
        "\n",
        "\n",
        "        #first link on the page with #mv is for the previous page, the second is for the next page\n",
        "        count_links_on_page = 0\n",
        "        for a in soup.find_all('a'):\n",
        "            link_on_page = a.get('href')\n",
        "            if type(link_on_page) == str:\n",
        "                if '#mw-pages' in link_on_page:\n",
        "                    count_links_on_page += 1\n",
        "                    if count_links_on_page == 2:\n",
        "                        link_page = 'https://ru.wikipedia.org' + link_on_page\n",
        "                        break\n",
        "    #output\n",
        "    for key in sorted(count_letters):\n",
        "        if key == 'Ё':\n",
        "            pass\n",
        "        elif key == 'Е':\n",
        "            print(key + ': ' + str(count_letters[key]))\n",
        "            print('Ё' + ': ' + str(count_letters['Ё']))\n",
        "        else:\n",
        "            print(key + ': ' + str(count_letters[key]))\n",
        "\n",
        "        \n",
        "get_wiki_names()"
      ],
      "metadata": {
        "id": "qIksoOTepMOc",
        "colab": {
          "base_uri": "https://localhost:8080/"
        },
        "outputId": "7a67be5f-4fd2-4639-c811-b27b7a0d5dcb"
      },
      "execution_count": 166,
      "outputs": [
        {
          "output_type": "stream",
          "name": "stdout",
          "text": [
            "А: 1148\n",
            "Б: 1599\n",
            "В: 515\n",
            "Г: 984\n",
            "Д: 739\n",
            "Е: 99\n",
            "Ё: 2\n",
            "Ж: 393\n",
            "З: 621\n",
            "И: 337\n",
            "Й: 3\n",
            "К: 2187\n",
            "Л: 679\n",
            "М: 1240\n",
            "Н: 451\n",
            "О: 765\n",
            "П: 1730\n",
            "Р: 556\n",
            "С: 1737\n",
            "Т: 968\n",
            "У: 242\n",
            "Ф: 189\n",
            "Х: 270\n",
            "Ц: 218\n",
            "Ч: 659\n",
            "Ш: 268\n",
            "Щ: 146\n",
            "Э: 213\n",
            "Ю: 133\n",
            "Я: 209\n"
          ]
        }
      ]
    }
  ]
}